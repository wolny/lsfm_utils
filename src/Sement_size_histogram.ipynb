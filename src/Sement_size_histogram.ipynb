{
 "cells": [
  {
   "cell_type": "code",
   "execution_count": 1,
   "metadata": {},
   "outputs": [],
   "source": [
    "import h5py\n",
    "import numpy\n",
    "import time\n",
    "from matplotlib import pyplot as plt\n",
    "from affogato.affinities import compute_affinities"
   ]
  },
  {
   "cell_type": "code",
   "execution_count": 2,
   "metadata": {},
   "outputs": [
    {
     "name": "stdout",
     "output_type": "stream",
     "text": [
      "Min size: 1\n",
      "Max size: 627623509\n"
     ]
    },
    {
     "data": {
      "image/png": "[encoded data removed]",
      "text/plain": [
       "<Figure size 432x288 with 1 Axes>"
      ]
     },
     "metadata": {},
     "output_type": "display_data"
    }
   ],
   "source": [
    "input_h5_file = \"/home/adrian/workspace/ilastik-datasets/MuviSPIM/bigcat_singleTimepoint/t00014_s00_uint8.h5\"\n",
    "\n",
    "with h5py.File(input_h5_file, \"r+\") as input_h5:\n",
    "    label_ids = input_h5[\"/volumes/labels/merged_ids\"]\n",
    "    label_ids_copy = numpy.copy(label_ids)\n",
    "    unique_ids, counts = numpy.unique(label_ids_copy, return_counts=True)\n",
    "    \n",
    "    print(f\"Min size: {numpy.min(counts)}\")\n",
    "    print(f\"Max size: {numpy.max(counts)}\")\n",
    "    \n",
    "    plt.hist(counts, bins=100, log=True, range=(1, 100))\n",
    "    plt.title(\"segment size histogram\") \n",
    "    plt.show()"
   ]
  },
  {
   "cell_type": "code",
   "execution_count": 4,
   "metadata": {},
   "outputs": [
    {
     "ename": "RuntimeError",
     "evalue": "NumPy: unable to create ndarray",
     "traceback": [
      "\u001b[0;31m---------------------------------------------------------------------------\u001b[0m",
      "\u001b[0;31mRuntimeError\u001b[0m                              Traceback (most recent call last)",
      "\u001b[0;32m<ipython-input-4-cd3489e55fa5>\u001b[0m in \u001b[0;36m<module>\u001b[0;34m()\u001b[0m\n\u001b[1;32m     13\u001b[0m                                             [0, 0, -10]],\n\u001b[1;32m     14\u001b[0m                                     \u001b[0mhave_ignore_label\u001b[0m\u001b[0;34m=\u001b[0m\u001b[0;32mTrue\u001b[0m\u001b[0;34m,\u001b[0m\u001b[0;34m\u001b[0m\u001b[0m\n\u001b[0;32m---> 15\u001b[0;31m                                     ignore_label=0)\n\u001b[0m\u001b[1;32m     16\u001b[0m \u001b[0;34m\u001b[0m\u001b[0m\n\u001b[1;32m     17\u001b[0m     \u001b[0mprint\u001b[0m\u001b[0;34m(\u001b[0m\u001b[0maffs\u001b[0m\u001b[0;34m.\u001b[0m\u001b[0mshape\u001b[0m\u001b[0;34m,\u001b[0m \u001b[0mmask\u001b[0m\u001b[0;34m.\u001b[0m\u001b[0mshape\u001b[0m\u001b[0;34m)\u001b[0m\u001b[0;34m\u001b[0m\u001b[0m\n",
      "\u001b[0;31mRuntimeError\u001b[0m: NumPy: unable to create ndarray"
     ],
     "output_type": "error"
    }
   ],
   "source": [
    "input_h5_file = \"/home/adrian/workspace/ilastik-datasets/MuviSPIM/bigcat_singleTimepoint/t00014_s00_uint8_filtered_20.h5\"\n",
    "output_h5_file = \"/home/adrian/workspace/ilastik-datasets/MuviSPIM/bigcat_singleTimepoint/t00014_s00_uint8_filtered_20_affs.h5\"\n",
    "\n",
    "with h5py.File(input_h5_file, \"r+\") as input_h5:\n",
    "    label_ids = input_h5[\"/volumes/labels/merged_ids\"][...]\n",
    "    # ignore_value=, ignore_value_id=\n",
    "    affs, mask = compute_affinities(label_ids,\n",
    "                                    offset=[[-1, 0, 0], \n",
    "                                            [0, -1, 0],\n",
    "                                            [0, 0, -1],\n",
    "                                            [-10, 0, 0],\n",
    "                                            [0, -10, 0],\n",
    "                                            [0, 0, -10]],\n",
    "                                    have_ignore_label=True,\n",
    "                                    ignore_label=0)\n",
    "\n",
    "    print(affs.shape, mask.shape)\n",
    "\n",
    "    with h5py.File(output_h5_file, \"w\") as output_h5:\n",
    "        output_h5.create_dataset(\"affinities\", data=affs)\n",
    "        output_h5.create_dataset(\"mask\", data=mask)\n",
    "    "
   ]
  },
  {
   "cell_type": "code",
   "execution_count": 1,
   "metadata": {},
   "outputs": [],
   "source": [
    "from scipy.ndimage import label, generate_binary_structure"
   ]
  },
  {
   "cell_type": "code",
   "execution_count": 7,
   "metadata": {},
   "outputs": [
    {
     "data": {
      "text/plain": [
       "array([[[False,  True, False],\n",
       "        [ True,  True,  True],\n",
       "        [False,  True, False]],\n",
       "\n",
       "       [[ True,  True,  True],\n",
       "        [ True,  True,  True],\n",
       "        [ True,  True,  True]],\n",
       "\n",
       "       [[False,  True, False],\n",
       "        [ True,  True,  True],\n",
       "        [False,  True, False]]])"
      ]
     },
     "execution_count": 7,
     "metadata": {},
     "output_type": "execute_result"
    }
   ],
   "source": [
    "s = generate_binary_structure(3,2)\n",
    "s"
   ]
  },
  {
   "cell_type": "code",
   "execution_count": null,
   "metadata": {},
   "outputs": [],
   "source": []
  }
 ],
 "metadata": {
  "kernelspec": {
   "display_name": "Python 3",
   "language": "python",
   "name": "python3"
  },
  "language_info": {
   "codemirror_mode": {
    "name": "ipython",
    "version": 3
   },
   "file_extension": ".py",
   "mimetype": "text/x-python",
   "name": "python",
   "nbconvert_exporter": "python",
   "pygments_lexer": "ipython3",
   "version": "3.6.6"
  }
 },
 "nbformat": 4,
 "nbformat_minor": 2
}
